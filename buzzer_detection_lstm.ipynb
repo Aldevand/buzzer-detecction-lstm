{
  "nbformat": 4,
  "nbformat_minor": 0,
  "metadata": {
    "colab": {
      "provenance": [],
      "mount_file_id": "1RKi14tPKMPg5QPDOD3REPAi8WA-Fm5R4",
      "authorship_tag": "ABX9TyO4YWY82h6OdWLyW6TVUPmC",
      "include_colab_link": true
    },
    "kernelspec": {
      "name": "python3",
      "display_name": "Python 3"
    },
    "language_info": {
      "name": "python"
    }
  },
  "cells": [
    {
      "cell_type": "markdown",
      "metadata": {
        "id": "view-in-github",
        "colab_type": "text"
      },
      "source": [
        "<a href=\"https://colab.research.google.com/github/Aldevand/buzzer-detecction-lstm/blob/main/buzzer_detection_lstm.ipynb\" target=\"_parent\"><img src=\"https://colab.research.google.com/assets/colab-badge.svg\" alt=\"Open In Colab\"/></a>"
      ]
    },
    {
      "cell_type": "markdown",
      "source": [
        "# Import library"
      ],
      "metadata": {
        "id": "ksAskaMfCGPP"
      }
    },
    {
      "cell_type": "code",
      "metadata": {
        "colab": {
          "base_uri": "https://localhost:8080/"
        },
        "id": "8ba51563",
        "outputId": "eafb7f06-15f6-4102-f51f-edc8f4d4c059"
      },
      "source": [
        "!pip install transformers\n",
        "!pip install torch\n",
        "!pip install tensorflow\n",
        "!pip install keras\n",
        "import pandas as pd\n",
        "import re\n",
        "import nltk\n",
        "nltk.download('punkt')\n",
        "nltk.download('stopwords')\n",
        "nltk.download('punkt_tab')\n",
        "from nltk.tokenize import word_tokenize\n",
        "from nltk.corpus import stopwords\n",
        "from datetime import timedelta\n"
      ],
      "execution_count": 16,
      "outputs": [
        {
          "output_type": "stream",
          "name": "stdout",
          "text": [
            "Requirement already satisfied: transformers in /usr/local/lib/python3.12/dist-packages (4.56.0)\n",
            "Requirement already satisfied: filelock in /usr/local/lib/python3.12/dist-packages (from transformers) (3.19.1)\n",
            "Requirement already satisfied: huggingface-hub<1.0,>=0.34.0 in /usr/local/lib/python3.12/dist-packages (from transformers) (0.34.4)\n",
            "Requirement already satisfied: numpy>=1.17 in /usr/local/lib/python3.12/dist-packages (from transformers) (2.0.2)\n",
            "Requirement already satisfied: packaging>=20.0 in /usr/local/lib/python3.12/dist-packages (from transformers) (25.0)\n",
            "Requirement already satisfied: pyyaml>=5.1 in /usr/local/lib/python3.12/dist-packages (from transformers) (6.0.2)\n",
            "Requirement already satisfied: regex!=2019.12.17 in /usr/local/lib/python3.12/dist-packages (from transformers) (2024.11.6)\n",
            "Requirement already satisfied: requests in /usr/local/lib/python3.12/dist-packages (from transformers) (2.32.4)\n",
            "Requirement already satisfied: tokenizers<=0.23.0,>=0.22.0 in /usr/local/lib/python3.12/dist-packages (from transformers) (0.22.0)\n",
            "Requirement already satisfied: safetensors>=0.4.3 in /usr/local/lib/python3.12/dist-packages (from transformers) (0.6.2)\n",
            "Requirement already satisfied: tqdm>=4.27 in /usr/local/lib/python3.12/dist-packages (from transformers) (4.67.1)\n",
            "Requirement already satisfied: fsspec>=2023.5.0 in /usr/local/lib/python3.12/dist-packages (from huggingface-hub<1.0,>=0.34.0->transformers) (2025.3.0)\n",
            "Requirement already satisfied: typing-extensions>=3.7.4.3 in /usr/local/lib/python3.12/dist-packages (from huggingface-hub<1.0,>=0.34.0->transformers) (4.15.0)\n",
            "Requirement already satisfied: hf-xet<2.0.0,>=1.1.3 in /usr/local/lib/python3.12/dist-packages (from huggingface-hub<1.0,>=0.34.0->transformers) (1.1.9)\n",
            "Requirement already satisfied: charset_normalizer<4,>=2 in /usr/local/lib/python3.12/dist-packages (from requests->transformers) (3.4.3)\n",
            "Requirement already satisfied: idna<4,>=2.5 in /usr/local/lib/python3.12/dist-packages (from requests->transformers) (3.10)\n",
            "Requirement already satisfied: urllib3<3,>=1.21.1 in /usr/local/lib/python3.12/dist-packages (from requests->transformers) (2.5.0)\n",
            "Requirement already satisfied: certifi>=2017.4.17 in /usr/local/lib/python3.12/dist-packages (from requests->transformers) (2025.8.3)\n",
            "Requirement already satisfied: torch in /usr/local/lib/python3.12/dist-packages (2.8.0+cu126)\n",
            "Requirement already satisfied: filelock in /usr/local/lib/python3.12/dist-packages (from torch) (3.19.1)\n",
            "Requirement already satisfied: typing-extensions>=4.10.0 in /usr/local/lib/python3.12/dist-packages (from torch) (4.15.0)\n",
            "Requirement already satisfied: setuptools in /usr/local/lib/python3.12/dist-packages (from torch) (75.2.0)\n",
            "Requirement already satisfied: sympy>=1.13.3 in /usr/local/lib/python3.12/dist-packages (from torch) (1.13.3)\n",
            "Requirement already satisfied: networkx in /usr/local/lib/python3.12/dist-packages (from torch) (3.5)\n",
            "Requirement already satisfied: jinja2 in /usr/local/lib/python3.12/dist-packages (from torch) (3.1.6)\n",
            "Requirement already satisfied: fsspec in /usr/local/lib/python3.12/dist-packages (from torch) (2025.3.0)\n",
            "Requirement already satisfied: nvidia-cuda-nvrtc-cu12==12.6.77 in /usr/local/lib/python3.12/dist-packages (from torch) (12.6.77)\n",
            "Requirement already satisfied: nvidia-cuda-runtime-cu12==12.6.77 in /usr/local/lib/python3.12/dist-packages (from torch) (12.6.77)\n",
            "Requirement already satisfied: nvidia-cuda-cupti-cu12==12.6.80 in /usr/local/lib/python3.12/dist-packages (from torch) (12.6.80)\n",
            "Requirement already satisfied: nvidia-cudnn-cu12==9.10.2.21 in /usr/local/lib/python3.12/dist-packages (from torch) (9.10.2.21)\n",
            "Requirement already satisfied: nvidia-cublas-cu12==12.6.4.1 in /usr/local/lib/python3.12/dist-packages (from torch) (12.6.4.1)\n",
            "Requirement already satisfied: nvidia-cufft-cu12==11.3.0.4 in /usr/local/lib/python3.12/dist-packages (from torch) (11.3.0.4)\n",
            "Requirement already satisfied: nvidia-curand-cu12==10.3.7.77 in /usr/local/lib/python3.12/dist-packages (from torch) (10.3.7.77)\n",
            "Requirement already satisfied: nvidia-cusolver-cu12==11.7.1.2 in /usr/local/lib/python3.12/dist-packages (from torch) (11.7.1.2)\n",
            "Requirement already satisfied: nvidia-cusparse-cu12==12.5.4.2 in /usr/local/lib/python3.12/dist-packages (from torch) (12.5.4.2)\n",
            "Requirement already satisfied: nvidia-cusparselt-cu12==0.7.1 in /usr/local/lib/python3.12/dist-packages (from torch) (0.7.1)\n",
            "Requirement already satisfied: nvidia-nccl-cu12==2.27.3 in /usr/local/lib/python3.12/dist-packages (from torch) (2.27.3)\n",
            "Requirement already satisfied: nvidia-nvtx-cu12==12.6.77 in /usr/local/lib/python3.12/dist-packages (from torch) (12.6.77)\n",
            "Requirement already satisfied: nvidia-nvjitlink-cu12==12.6.85 in /usr/local/lib/python3.12/dist-packages (from torch) (12.6.85)\n",
            "Requirement already satisfied: nvidia-cufile-cu12==1.11.1.6 in /usr/local/lib/python3.12/dist-packages (from torch) (1.11.1.6)\n",
            "Requirement already satisfied: triton==3.4.0 in /usr/local/lib/python3.12/dist-packages (from torch) (3.4.0)\n",
            "Requirement already satisfied: mpmath<1.4,>=1.1.0 in /usr/local/lib/python3.12/dist-packages (from sympy>=1.13.3->torch) (1.3.0)\n",
            "Requirement already satisfied: MarkupSafe>=2.0 in /usr/local/lib/python3.12/dist-packages (from jinja2->torch) (3.0.2)\n",
            "Requirement already satisfied: tensorflow in /usr/local/lib/python3.12/dist-packages (2.19.0)\n",
            "Requirement already satisfied: absl-py>=1.0.0 in /usr/local/lib/python3.12/dist-packages (from tensorflow) (1.4.0)\n",
            "Requirement already satisfied: astunparse>=1.6.0 in /usr/local/lib/python3.12/dist-packages (from tensorflow) (1.6.3)\n",
            "Requirement already satisfied: flatbuffers>=24.3.25 in /usr/local/lib/python3.12/dist-packages (from tensorflow) (25.2.10)\n",
            "Requirement already satisfied: gast!=0.5.0,!=0.5.1,!=0.5.2,>=0.2.1 in /usr/local/lib/python3.12/dist-packages (from tensorflow) (0.6.0)\n",
            "Requirement already satisfied: google-pasta>=0.1.1 in /usr/local/lib/python3.12/dist-packages (from tensorflow) (0.2.0)\n",
            "Requirement already satisfied: libclang>=13.0.0 in /usr/local/lib/python3.12/dist-packages (from tensorflow) (18.1.1)\n",
            "Requirement already satisfied: opt-einsum>=2.3.2 in /usr/local/lib/python3.12/dist-packages (from tensorflow) (3.4.0)\n",
            "Requirement already satisfied: packaging in /usr/local/lib/python3.12/dist-packages (from tensorflow) (25.0)\n",
            "Requirement already satisfied: protobuf!=4.21.0,!=4.21.1,!=4.21.2,!=4.21.3,!=4.21.4,!=4.21.5,<6.0.0dev,>=3.20.3 in /usr/local/lib/python3.12/dist-packages (from tensorflow) (5.29.5)\n",
            "Requirement already satisfied: requests<3,>=2.21.0 in /usr/local/lib/python3.12/dist-packages (from tensorflow) (2.32.4)\n",
            "Requirement already satisfied: setuptools in /usr/local/lib/python3.12/dist-packages (from tensorflow) (75.2.0)\n",
            "Requirement already satisfied: six>=1.12.0 in /usr/local/lib/python3.12/dist-packages (from tensorflow) (1.17.0)\n",
            "Requirement already satisfied: termcolor>=1.1.0 in /usr/local/lib/python3.12/dist-packages (from tensorflow) (3.1.0)\n",
            "Requirement already satisfied: typing-extensions>=3.6.6 in /usr/local/lib/python3.12/dist-packages (from tensorflow) (4.15.0)\n",
            "Requirement already satisfied: wrapt>=1.11.0 in /usr/local/lib/python3.12/dist-packages (from tensorflow) (1.17.3)\n",
            "Requirement already satisfied: grpcio<2.0,>=1.24.3 in /usr/local/lib/python3.12/dist-packages (from tensorflow) (1.74.0)\n",
            "Requirement already satisfied: tensorboard~=2.19.0 in /usr/local/lib/python3.12/dist-packages (from tensorflow) (2.19.0)\n",
            "Requirement already satisfied: keras>=3.5.0 in /usr/local/lib/python3.12/dist-packages (from tensorflow) (3.10.0)\n",
            "Requirement already satisfied: numpy<2.2.0,>=1.26.0 in /usr/local/lib/python3.12/dist-packages (from tensorflow) (2.0.2)\n",
            "Requirement already satisfied: h5py>=3.11.0 in /usr/local/lib/python3.12/dist-packages (from tensorflow) (3.14.0)\n",
            "Requirement already satisfied: ml-dtypes<1.0.0,>=0.5.1 in /usr/local/lib/python3.12/dist-packages (from tensorflow) (0.5.3)\n",
            "Requirement already satisfied: wheel<1.0,>=0.23.0 in /usr/local/lib/python3.12/dist-packages (from astunparse>=1.6.0->tensorflow) (0.45.1)\n",
            "Requirement already satisfied: rich in /usr/local/lib/python3.12/dist-packages (from keras>=3.5.0->tensorflow) (13.9.4)\n",
            "Requirement already satisfied: namex in /usr/local/lib/python3.12/dist-packages (from keras>=3.5.0->tensorflow) (0.1.0)\n",
            "Requirement already satisfied: optree in /usr/local/lib/python3.12/dist-packages (from keras>=3.5.0->tensorflow) (0.17.0)\n",
            "Requirement already satisfied: charset_normalizer<4,>=2 in /usr/local/lib/python3.12/dist-packages (from requests<3,>=2.21.0->tensorflow) (3.4.3)\n",
            "Requirement already satisfied: idna<4,>=2.5 in /usr/local/lib/python3.12/dist-packages (from requests<3,>=2.21.0->tensorflow) (3.10)\n",
            "Requirement already satisfied: urllib3<3,>=1.21.1 in /usr/local/lib/python3.12/dist-packages (from requests<3,>=2.21.0->tensorflow) (2.5.0)\n",
            "Requirement already satisfied: certifi>=2017.4.17 in /usr/local/lib/python3.12/dist-packages (from requests<3,>=2.21.0->tensorflow) (2025.8.3)\n",
            "Requirement already satisfied: markdown>=2.6.8 in /usr/local/lib/python3.12/dist-packages (from tensorboard~=2.19.0->tensorflow) (3.8.2)\n",
            "Requirement already satisfied: tensorboard-data-server<0.8.0,>=0.7.0 in /usr/local/lib/python3.12/dist-packages (from tensorboard~=2.19.0->tensorflow) (0.7.2)\n",
            "Requirement already satisfied: werkzeug>=1.0.1 in /usr/local/lib/python3.12/dist-packages (from tensorboard~=2.19.0->tensorflow) (3.1.3)\n",
            "Requirement already satisfied: MarkupSafe>=2.1.1 in /usr/local/lib/python3.12/dist-packages (from werkzeug>=1.0.1->tensorboard~=2.19.0->tensorflow) (3.0.2)\n",
            "Requirement already satisfied: markdown-it-py>=2.2.0 in /usr/local/lib/python3.12/dist-packages (from rich->keras>=3.5.0->tensorflow) (4.0.0)\n",
            "Requirement already satisfied: pygments<3.0.0,>=2.13.0 in /usr/local/lib/python3.12/dist-packages (from rich->keras>=3.5.0->tensorflow) (2.19.2)\n",
            "Requirement already satisfied: mdurl~=0.1 in /usr/local/lib/python3.12/dist-packages (from markdown-it-py>=2.2.0->rich->keras>=3.5.0->tensorflow) (0.1.2)\n",
            "Requirement already satisfied: keras in /usr/local/lib/python3.12/dist-packages (3.10.0)\n",
            "Requirement already satisfied: absl-py in /usr/local/lib/python3.12/dist-packages (from keras) (1.4.0)\n",
            "Requirement already satisfied: numpy in /usr/local/lib/python3.12/dist-packages (from keras) (2.0.2)\n",
            "Requirement already satisfied: rich in /usr/local/lib/python3.12/dist-packages (from keras) (13.9.4)\n",
            "Requirement already satisfied: namex in /usr/local/lib/python3.12/dist-packages (from keras) (0.1.0)\n",
            "Requirement already satisfied: h5py in /usr/local/lib/python3.12/dist-packages (from keras) (3.14.0)\n",
            "Requirement already satisfied: optree in /usr/local/lib/python3.12/dist-packages (from keras) (0.17.0)\n",
            "Requirement already satisfied: ml-dtypes in /usr/local/lib/python3.12/dist-packages (from keras) (0.5.3)\n",
            "Requirement already satisfied: packaging in /usr/local/lib/python3.12/dist-packages (from keras) (25.0)\n",
            "Requirement already satisfied: typing-extensions>=4.6.0 in /usr/local/lib/python3.12/dist-packages (from optree->keras) (4.15.0)\n",
            "Requirement already satisfied: markdown-it-py>=2.2.0 in /usr/local/lib/python3.12/dist-packages (from rich->keras) (4.0.0)\n",
            "Requirement already satisfied: pygments<3.0.0,>=2.13.0 in /usr/local/lib/python3.12/dist-packages (from rich->keras) (2.19.2)\n",
            "Requirement already satisfied: mdurl~=0.1 in /usr/local/lib/python3.12/dist-packages (from markdown-it-py>=2.2.0->rich->keras) (0.1.2)\n"
          ]
        },
        {
          "output_type": "stream",
          "name": "stderr",
          "text": [
            "[nltk_data] Downloading package punkt to /root/nltk_data...\n",
            "[nltk_data]   Package punkt is already up-to-date!\n",
            "[nltk_data] Downloading package stopwords to /root/nltk_data...\n",
            "[nltk_data]   Package stopwords is already up-to-date!\n",
            "[nltk_data] Downloading package punkt_tab to /root/nltk_data...\n",
            "[nltk_data]   Package punkt_tab is already up-to-date!\n"
          ]
        }
      ]
    },
    {
      "cell_type": "markdown",
      "source": [
        "# Load Dataset"
      ],
      "metadata": {
        "id": "OWJNJ0B7Fw25"
      }
    },
    {
      "cell_type": "code",
      "source": [
        "df = pd.read_excel('/content/drive/MyDrive/Keperluan Skripsi/danantara_gabungan.xlsx')"
      ],
      "metadata": {
        "id": "_uhWAZQ7F1Hd"
      },
      "execution_count": 9,
      "outputs": []
    },
    {
      "cell_type": "code",
      "source": [
        "df.info()"
      ],
      "metadata": {
        "colab": {
          "base_uri": "https://localhost:8080/"
        },
        "id": "qMwUw33HHFzy",
        "outputId": "3c62f01f-f613-4ffb-d519-9250b2b17877"
      },
      "execution_count": 10,
      "outputs": [
        {
          "output_type": "stream",
          "name": "stdout",
          "text": [
            "<class 'pandas.core.frame.DataFrame'>\n",
            "RangeIndex: 1255 entries, 0 to 1254\n",
            "Data columns (total 15 columns):\n",
            " #   Column                   Non-Null Count  Dtype \n",
            "---  ------                   --------------  ----- \n",
            " 0   conversation_id_str      1255 non-null   int64 \n",
            " 1   created_at               1255 non-null   object\n",
            " 2   favorite_count           1255 non-null   int64 \n",
            " 3   full_text                1255 non-null   object\n",
            " 4   id_str                   1255 non-null   int64 \n",
            " 5   image_url                672 non-null    object\n",
            " 6   in_reply_to_screen_name  112 non-null    object\n",
            " 7   lang                     1255 non-null   object\n",
            " 8   location                 810 non-null    object\n",
            " 9   quote_count              1255 non-null   int64 \n",
            " 10  reply_count              1255 non-null   int64 \n",
            " 11  retweet_count            1255 non-null   int64 \n",
            " 12  tweet_url                1255 non-null   object\n",
            " 13  user_id_str              1255 non-null   int64 \n",
            " 14  username                 1255 non-null   object\n",
            "dtypes: int64(7), object(8)\n",
            "memory usage: 147.2+ KB\n"
          ]
        }
      ]
    },
    {
      "cell_type": "code",
      "source": [
        "print(df.head(5))\n",
        "print(df.tail(5))"
      ],
      "metadata": {
        "colab": {
          "base_uri": "https://localhost:8080/"
        },
        "collapsed": true,
        "id": "aaobIak9HJS0",
        "outputId": "a8ccacf3-6adc-482b-d457-53cfb455b77b"
      },
      "execution_count": 11,
      "outputs": [
        {
          "output_type": "stream",
          "name": "stdout",
          "text": [
            "   conversation_id_str                      created_at  favorite_count  \\\n",
            "0  1900102038295633920  Thu Mar 13 08:30:02 +0000 2025               2   \n",
            "1  1900122136087585024  Thu Mar 13 09:49:54 +0000 2025               0   \n",
            "2  1900086851337413120  Thu Mar 13 07:29:41 +0000 2025               0   \n",
            "3  1898156438125768960  Fri Mar 07 23:38:55 +0000 2025               1   \n",
            "4  1899762836152155904  Wed Mar 12 10:02:10 +0000 2025               1   \n",
            "\n",
            "                                           full_text               id_str  \\\n",
            "0  Mengacu dari Indonesia Salary Guide 2025 gaji ...  1900102038295633920   \n",
            "1  Electrizen Danantara Indonesia telah resmi dib...  1900122136087585024   \n",
            "2  Wamenkeu Thomas: Danantara Tak Gadai Saham Pem...  1900086851337413120   \n",
            "3  Proyek DME: Mahal &amp; Merugikan! Gasifikasi ...  1898156438125768960   \n",
            "4  Masyarakat Indonesia percaya bahwa BPI Dananta...  1899762836152155904   \n",
            "\n",
            "                                         image_url in_reply_to_screen_name  \\\n",
            "0                                              NaN                     NaN   \n",
            "1  https://pbs.twimg.com/media/Gl6XAlLbYAI-UqI.jpg                     NaN   \n",
            "2                                              NaN                     NaN   \n",
            "3  https://pbs.twimg.com/media/GlebOJZbwAIeiQi.jpg                     NaN   \n",
            "4  https://pbs.twimg.com/media/Gl1QNK1W8AAydDa.jpg                     NaN   \n",
            "\n",
            "  lang                location  quote_count  reply_count  retweet_count  \\\n",
            "0   in               Indonesia            0            0              4   \n",
            "1   in                     NaN            0            0              0   \n",
            "2   in  Jakarta Capital Region            0            0              0   \n",
            "3   in               Indonesia            0            1              2   \n",
            "4   in                 Jakarta            1            1              0   \n",
            "\n",
            "                                           tweet_url          user_id_str  \\\n",
            "0  https://x.com/tempodotco/status/19001020382956...             18129942   \n",
            "1  https://x.com/ImeldaTriS54261/status/190012213...  1849369709390807040   \n",
            "2  https://x.com/cnbcindonesia/status/19000868513...   847372542830444544   \n",
            "3  https://x.com/350Indonesia/status/189815643812...            457187389   \n",
            "4  https://x.com/liputan6dotcom/status/1899762836...             47596019   \n",
            "\n",
            "          username  \n",
            "0       tempodotco  \n",
            "1  ImeldaTriS54261  \n",
            "2    cnbcindonesia  \n",
            "3     350Indonesia  \n",
            "4   liputan6dotcom  \n",
            "      conversation_id_str                      created_at  favorite_count  \\\n",
            "1250  1898963517765820928  Mon Mar 10 05:05:58 +0000 2025               1   \n",
            "1251  1898005540732912128  Fri Mar 07 13:39:18 +0000 2025             372   \n",
            "1252  1899692230496980992  Wed Mar 12 05:21:36 +0000 2025               1   \n",
            "1253  1900068057382608896  Thu Mar 13 06:15:01 +0000 2025               0   \n",
            "1254  1900065026184261888  Thu Mar 13 06:02:58 +0000 2025               0   \n",
            "\n",
            "                                              full_text               id_str  \\\n",
            "1250  Danantara Masuk 10 Besar Badan Investasi Dunia...  1898963517765820928   \n",
            "1251  Bapak Presiden Jenderal TNI (Purn) Prabowo Sub...  1898005540732912128   \n",
            "1252  Mengembangkan Investasi Berbasis Teknologi den...  1899692230496980992   \n",
            "1253  Masyarakat Indonesia percaya bahwa BPI DANANTA...  1900068057382608896   \n",
            "1254  Masyarakat Indonesia percaya bahwa BPI DANANTA...  1900065026184261888   \n",
            "\n",
            "                                            image_url in_reply_to_screen_name  \\\n",
            "1250  https://pbs.twimg.com/media/Glp5QVcbcAAMBft.jpg                     NaN   \n",
            "1251  https://pbs.twimg.com/media/GlcR8fFbwAAT4vZ.jpg                     NaN   \n",
            "1252  https://pbs.twimg.com/media/Gl0QA5maMAAZc9N.jpg                     NaN   \n",
            "1253  https://pbs.twimg.com/media/Gl5l1ByWIAAVckf.jpg                     NaN   \n",
            "1254  https://pbs.twimg.com/media/Gl5jD2EbYAAkY_v.jpg                     NaN   \n",
            "\n",
            "     lang                  location  quote_count  reply_count  retweet_count  \\\n",
            "1250   in         Kota Jambi, Jambi            0            1              0   \n",
            "1251   in                 Indonesia           30          359             39   \n",
            "1252   in                       NaN            0            0              0   \n",
            "1253   in         Tangerang, Banten            0            0              0   \n",
            "1254   in  Bandung Wetan, Indonesia            0            0              0   \n",
            "\n",
            "                                              tweet_url          user_id_str  \\\n",
            "1250  https://x.com/kharism79/status/189896351776582...  1564436564855235072   \n",
            "1251  https://x.com/erickthohir/status/1898005540732...             43088704   \n",
            "1252  https://x.com/pejuang_berkuda/status/189969223...  1645196114453209088   \n",
            "1253  https://x.com/anonymsmee/status/19000680573826...  1533739189124349952   \n",
            "1254  https://x.com/Tivannni/status/1900065026184261840  1686276192352271872   \n",
            "\n",
            "             username  \n",
            "1250        kharism79  \n",
            "1251      erickthohir  \n",
            "1252  pejuang_berkuda  \n",
            "1253       anonymsmee  \n",
            "1254         Tivannni  \n"
          ]
        }
      ]
    },
    {
      "cell_type": "markdown",
      "source": [
        "# Text Cleaning"
      ],
      "metadata": {
        "id": "WnNu9M06CNhj"
      }
    },
    {
      "cell_type": "code",
      "source": [
        "# fungsi pembersihan teks\n",
        "\n",
        "def cleaning(teks):\n",
        "  teks = teks.lower()\n",
        "  teks = re.sub(r'http\\S+|www\\S+|https\\S+', '', teks, flags=re.MULTILINE)\n",
        "  teks = re.sub(r'@\\w+|#\\w+', '', teks)\n",
        "  teks = re.sub(r'[^a-zA-Z\\s]', '', teks)\n",
        "  tokens = word_tokenize(teks)\n",
        "  list_stopwords = stopwords.words('indonesian')\n",
        "  filtered_tokens = [token for token in tokens if token not in list_stopwords]\n",
        "  teks = ' '.join(filtered_tokens)\n",
        "  return teks\n",
        "# Terapkan fungsi\n",
        "df['teks_bersih'] = df['full_text'].apply(cleaning)\n",
        "print(df[['full_text', 'teks_bersih']].head(5))"
      ],
      "metadata": {
        "colab": {
          "base_uri": "https://localhost:8080/"
        },
        "id": "LfICdbWCCQ54",
        "outputId": "be2d50ad-50be-4379-f66a-551f9b7fcb74"
      },
      "execution_count": 14,
      "outputs": [
        {
          "output_type": "stream",
          "name": "stdout",
          "text": [
            "                                           full_text  \\\n",
            "0  Mengacu dari Indonesia Salary Guide 2025 gaji ...   \n",
            "1  Electrizen Danantara Indonesia telah resmi dib...   \n",
            "2  Wamenkeu Thomas: Danantara Tak Gadai Saham Pem...   \n",
            "3  Proyek DME: Mahal &amp; Merugikan! Gasifikasi ...   \n",
            "4  Masyarakat Indonesia percaya bahwa BPI Dananta...   \n",
            "\n",
            "                                         teks_bersih  \n",
            "0  mengacu indonesia salary guide gaji selevel ce...  \n",
            "1  electrizen danantara indonesia resmi dibentuk ...  \n",
            "2   wamenkeu thomas danantara gadai saham pemerintah  \n",
            "3  proyek dme mahal amp merugikan gasifikasi batu...  \n",
            "4  masyarakat indonesia percaya bpi danantara men...  \n"
          ]
        }
      ]
    },
    {
      "cell_type": "markdown",
      "source": [
        "# Pelabelan -> Rule Based"
      ],
      "metadata": {
        "id": "X8uCdtS3iOVS"
      }
    },
    {
      "cell_type": "code",
      "source": [
        "# Rule waktu\n",
        "df['created_at'] = pd.to_datetime(df['created_at'], utc=True)\n",
        "df.sort_values(by='created_at', inplace=True)\n",
        "df['label_time'] = 0\n",
        "time_threshold = timedelta(minutes=5)\n",
        "for i in range(1, len(df)):\n",
        "    time_diff = df.iloc[i]['created_at'] - df.iloc[i-1]['created_at']\n",
        "    if time_diff <= time_threshold:\n",
        "        df.loc[df.index[i], 'label_time'] = 1\n",
        "        df.loc[df.index[i-1], 'label_time'] = 1"
      ],
      "metadata": {
        "id": "V7m0FP5aih8Y"
      },
      "execution_count": 18,
      "outputs": []
    }
  ]
}